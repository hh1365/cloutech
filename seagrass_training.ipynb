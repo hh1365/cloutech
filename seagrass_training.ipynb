{
 "cells": [
  {
   "cell_type": "code",
   "execution_count": 1,
   "id": "convinced-aberdeen",
   "metadata": {},
   "outputs": [],
   "source": [
    "import pandas as pd\n",
    "from sklearn.model_selection import train_test_split\n",
    "from sklearn.ensemble import RandomForestClassifier\n",
    "from sklearn.metrics import accuracy_score"
   ]
  },
  {
   "cell_type": "code",
   "execution_count": 2,
   "id": "fourth-doctrine",
   "metadata": {},
   "outputs": [],
   "source": [
    "data = pd.read_csv(\"s3://cloud-tech-final-project/train_seagrass.csv\")"
   ]
  },
  {
   "cell_type": "code",
   "execution_count": 3,
   "id": "natural-batman",
   "metadata": {},
   "outputs": [],
   "source": [
    "train_set, test_set = train_test_split(data, test_size=0.1, random_state=42)"
   ]
  },
  {
   "cell_type": "code",
   "execution_count": 4,
   "id": "south-spending",
   "metadata": {},
   "outputs": [],
   "source": [
    "x_train = train_set.drop([\"OID\", \"present\", \"X\", \"Y\"], axis=1)\n",
    "y_train = train_set[\"present\"]\n",
    "\n",
    "x_test = test_set.drop([\"OID\", \"present\", \"X\", \"Y\"], axis=1)\n",
    "y_test = test_set[\"present\"]"
   ]
  },
  {
   "cell_type": "code",
   "execution_count": 5,
   "id": "stable-oasis",
   "metadata": {},
   "outputs": [
    {
     "data": {
      "text/plain": [
       "RandomForestClassifier(class_weight='balanced', max_leaf_nodes=16,\n",
       "                       n_estimators=1000, n_jobs=-1)"
      ]
     },
     "execution_count": 5,
     "metadata": {},
     "output_type": "execute_result"
    }
   ],
   "source": [
    "rnd_clf = RandomForestClassifier(n_estimators=1000, max_leaf_nodes=16, n_jobs=-1, class_weight=\"balanced\")\n",
    "rnd_clf.fit(x_train, y_train)"
   ]
  },
  {
   "cell_type": "code",
   "execution_count": 6,
   "id": "boolean-incidence",
   "metadata": {},
   "outputs": [],
   "source": [
    "y_pred_rf = rnd_clf.predict(x_test)"
   ]
  },
  {
   "cell_type": "code",
   "execution_count": 7,
   "id": "complex-cleveland",
   "metadata": {},
   "outputs": [
    {
     "data": {
      "text/plain": [
       "0.927"
      ]
     },
     "execution_count": 7,
     "metadata": {},
     "output_type": "execute_result"
    }
   ],
   "source": [
    "accuracy_score(y_test, y_pred_rf)"
   ]
  },
  {
   "cell_type": "code",
   "execution_count": 9,
   "id": "suffering-prince",
   "metadata": {},
   "outputs": [
    {
     "data": {
      "text/plain": [
       "{'ResponseMetadata': {'RequestId': 'RMH42J9M5XVBKXMJ',\n",
       "  'HostId': 'iv/BlwCqzFeA5OrBCDnst8L/ARBbwxicV/MGKgemNWytXWZ/mtHIrGIXsplRMuqsXocJX2LCrjo=',\n",
       "  'HTTPStatusCode': 200,\n",
       "  'HTTPHeaders': {'x-amz-id-2': 'iv/BlwCqzFeA5OrBCDnst8L/ARBbwxicV/MGKgemNWytXWZ/mtHIrGIXsplRMuqsXocJX2LCrjo=',\n",
       "   'x-amz-request-id': 'RMH42J9M5XVBKXMJ',\n",
       "   'date': 'Mon, 26 Apr 2021 01:52:36 GMT',\n",
       "   'etag': '\"eea95f58b9b5d8b62765b8c936be9517\"',\n",
       "   'content-length': '0',\n",
       "   'server': 'AmazonS3'},\n",
       "  'RetryAttempts': 0},\n",
       " 'ETag': '\"eea95f58b9b5d8b62765b8c936be9517\"'}"
      ]
     },
     "execution_count": 9,
     "metadata": {},
     "output_type": "execute_result"
    }
   ],
   "source": [
    "# save the model\n",
    "import boto3\n",
    "import pickle\n",
    "\n",
    "bucket='cloud-tech-final-project'\n",
    "key='rf_model.pkl'\n",
    "pickle_byte_obj = pickle.dumps(rnd_clf) \n",
    "s3_resource = boto3.resource('s3')\n",
    "s3_resource.Object(bucket,key).put(Body=pickle_byte_obj)\n",
    "\n",
    "\n"
   ]
  },
  {
   "cell_type": "code",
   "execution_count": null,
   "id": "falling-chassis",
   "metadata": {},
   "outputs": [],
   "source": []
  }
 ],
 "metadata": {
  "kernelspec": {
   "display_name": "conda_python3",
   "language": "python",
   "name": "conda_python3"
  },
  "language_info": {
   "codemirror_mode": {
    "name": "ipython",
    "version": 3
   },
   "file_extension": ".py",
   "mimetype": "text/x-python",
   "name": "python",
   "nbconvert_exporter": "python",
   "pygments_lexer": "ipython3",
   "version": "3.6.13"
  }
 },
 "nbformat": 4,
 "nbformat_minor": 5
}
