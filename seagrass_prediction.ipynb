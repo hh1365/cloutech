{
 "cells": [
  {
   "cell_type": "code",
   "execution_count": 1,
   "id": "stainless-architect",
   "metadata": {},
   "outputs": [],
   "source": [
    "import pandas as pd\n",
    "import pickle\n",
    "import boto3"
   ]
  },
  {
   "cell_type": "code",
   "execution_count": 2,
   "id": "champion-photography",
   "metadata": {},
   "outputs": [],
   "source": [
    "# load the model\n",
    "s3 = boto3.resource('s3')\n",
    "rf_model = pickle.loads(s3.Bucket(\"cloud-tech-final-project\").Object(\"rf_model.pkl\").get()['Body'].read())"
   ]
  },
  {
   "cell_type": "code",
   "execution_count": 3,
   "id": "greater-tonight",
   "metadata": {},
   "outputs": [],
   "source": [
    "#prediction\n",
    "prediction_data = pd.read_csv(\"s3://cloud-tech-final-project/prediction_seagrass.csv\")\n",
    "prediction_data2 = prediction_data.drop([\"OID\", \"X\", \"Y\"], axis=1)"
   ]
  },
  {
   "cell_type": "code",
   "execution_count": 4,
   "id": "southeast-bread",
   "metadata": {},
   "outputs": [],
   "source": [
    "result = rf_model.predict(prediction_data2)"
   ]
  },
  {
   "cell_type": "code",
   "execution_count": 5,
   "id": "comparative-medline",
   "metadata": {},
   "outputs": [
    {
     "data": {
      "text/plain": [
       "67"
      ]
     },
     "execution_count": 5,
     "metadata": {},
     "output_type": "execute_result"
    }
   ],
   "source": [
    "result.sum()"
   ]
  },
  {
   "cell_type": "code",
   "execution_count": 6,
   "id": "greenhouse-bookmark",
   "metadata": {},
   "outputs": [],
   "source": [
    "prediction_data[\"present\"] = result"
   ]
  },
  {
   "cell_type": "code",
   "execution_count": 8,
   "id": "binding-validation",
   "metadata": {},
   "outputs": [
    {
     "data": {
      "text/html": [
       "<div>\n",
       "<style scoped>\n",
       "    .dataframe tbody tr th:only-of-type {\n",
       "        vertical-align: middle;\n",
       "    }\n",
       "\n",
       "    .dataframe tbody tr th {\n",
       "        vertical-align: top;\n",
       "    }\n",
       "\n",
       "    .dataframe thead th {\n",
       "        text-align: right;\n",
       "    }\n",
       "</style>\n",
       "<table border=\"1\" class=\"dataframe\">\n",
       "  <thead>\n",
       "    <tr style=\"text-align: right;\">\n",
       "      <th></th>\n",
       "      <th>OID</th>\n",
       "      <th>dissO2</th>\n",
       "      <th>nitrate</th>\n",
       "      <th>phosphate</th>\n",
       "      <th>salinity</th>\n",
       "      <th>silicate</th>\n",
       "      <th>srtm30</th>\n",
       "      <th>temp</th>\n",
       "      <th>X</th>\n",
       "      <th>Y</th>\n",
       "      <th>present</th>\n",
       "    </tr>\n",
       "  </thead>\n",
       "  <tbody>\n",
       "    <tr>\n",
       "      <th>0</th>\n",
       "      <td>1</td>\n",
       "      <td>6.651183</td>\n",
       "      <td>7.897197</td>\n",
       "      <td>0.886982</td>\n",
       "      <td>32.401119</td>\n",
       "      <td>6.059976</td>\n",
       "      <td>-68</td>\n",
       "      <td>5.912848</td>\n",
       "      <td>-66.375</td>\n",
       "      <td>43.875</td>\n",
       "      <td>0</td>\n",
       "    </tr>\n",
       "    <tr>\n",
       "      <th>1</th>\n",
       "      <td>2</td>\n",
       "      <td>6.556315</td>\n",
       "      <td>8.297497</td>\n",
       "      <td>0.902758</td>\n",
       "      <td>32.471413</td>\n",
       "      <td>6.403570</td>\n",
       "      <td>-69</td>\n",
       "      <td>5.747465</td>\n",
       "      <td>-66.375</td>\n",
       "      <td>43.625</td>\n",
       "      <td>0</td>\n",
       "    </tr>\n",
       "    <tr>\n",
       "      <th>2</th>\n",
       "      <td>3</td>\n",
       "      <td>7.151639</td>\n",
       "      <td>3.741307</td>\n",
       "      <td>0.624948</td>\n",
       "      <td>31.711849</td>\n",
       "      <td>3.344583</td>\n",
       "      <td>-13</td>\n",
       "      <td>6.105235</td>\n",
       "      <td>-66.125</td>\n",
       "      <td>43.625</td>\n",
       "      <td>0</td>\n",
       "    </tr>\n",
       "    <tr>\n",
       "      <th>3</th>\n",
       "      <td>4</td>\n",
       "      <td>6.727876</td>\n",
       "      <td>7.456292</td>\n",
       "      <td>0.869195</td>\n",
       "      <td>32.316944</td>\n",
       "      <td>5.722008</td>\n",
       "      <td>-60</td>\n",
       "      <td>5.604783</td>\n",
       "      <td>-66.375</td>\n",
       "      <td>43.375</td>\n",
       "      <td>0</td>\n",
       "    </tr>\n",
       "    <tr>\n",
       "      <th>4</th>\n",
       "      <td>5</td>\n",
       "      <td>6.570268</td>\n",
       "      <td>8.313941</td>\n",
       "      <td>0.905551</td>\n",
       "      <td>32.276649</td>\n",
       "      <td>6.419197</td>\n",
       "      <td>-56</td>\n",
       "      <td>5.009850</td>\n",
       "      <td>-66.125</td>\n",
       "      <td>43.375</td>\n",
       "      <td>0</td>\n",
       "    </tr>\n",
       "  </tbody>\n",
       "</table>\n",
       "</div>"
      ],
      "text/plain": [
       "   OID    dissO2   nitrate  phosphate   salinity  silicate  srtm30      temp  \\\n",
       "0    1  6.651183  7.897197   0.886982  32.401119  6.059976     -68  5.912848   \n",
       "1    2  6.556315  8.297497   0.902758  32.471413  6.403570     -69  5.747465   \n",
       "2    3  7.151639  3.741307   0.624948  31.711849  3.344583     -13  6.105235   \n",
       "3    4  6.727876  7.456292   0.869195  32.316944  5.722008     -60  5.604783   \n",
       "4    5  6.570268  8.313941   0.905551  32.276649  6.419197     -56  5.009850   \n",
       "\n",
       "        X       Y  present  \n",
       "0 -66.375  43.875        0  \n",
       "1 -66.375  43.625        0  \n",
       "2 -66.125  43.625        0  \n",
       "3 -66.375  43.375        0  \n",
       "4 -66.125  43.375        0  "
      ]
     },
     "execution_count": 8,
     "metadata": {},
     "output_type": "execute_result"
    }
   ],
   "source": [
    "prediction_data.head()"
   ]
  },
  {
   "cell_type": "code",
   "execution_count": 9,
   "id": "respiratory-belarus",
   "metadata": {},
   "outputs": [
    {
     "data": {
      "text/plain": [
       "{'ResponseMetadata': {'RequestId': 'SG7CK869WQ18E703',\n",
       "  'HostId': 'U10Ni2YJeYoEod8gggeCkjhV0nTMzt6SR9B+J/UP1+33bs9YUYNJZ7JZSL+iRNJSGCUY6JbMvN4=',\n",
       "  'HTTPStatusCode': 200,\n",
       "  'HTTPHeaders': {'x-amz-id-2': 'U10Ni2YJeYoEod8gggeCkjhV0nTMzt6SR9B+J/UP1+33bs9YUYNJZ7JZSL+iRNJSGCUY6JbMvN4=',\n",
       "   'x-amz-request-id': 'SG7CK869WQ18E703',\n",
       "   'date': 'Mon, 26 Apr 2021 02:34:17 GMT',\n",
       "   'etag': '\"49a30861fc7264fa1c4cf766f1c00a56\"',\n",
       "   'content-length': '0',\n",
       "   'server': 'AmazonS3'},\n",
       "  'RetryAttempts': 0},\n",
       " 'ETag': '\"49a30861fc7264fa1c4cf766f1c00a56\"'}"
      ]
     },
     "execution_count": 9,
     "metadata": {},
     "output_type": "execute_result"
    }
   ],
   "source": [
    "from io import StringIO # python3; python2: BytesIO \n",
    "import boto3\n",
    "\n",
    "bucket = 'cloud-tech-final-project' # already created on S3\n",
    "csv_buffer = StringIO()\n",
    "prediction_data.to_csv(csv_buffer)\n",
    "s3_resource = boto3.resource('s3')\n",
    "s3_resource.Object(bucket, 'prediction_result.csv').put(Body=csv_buffer.getvalue())"
   ]
  },
  {
   "cell_type": "code",
   "execution_count": null,
   "id": "consecutive-thing",
   "metadata": {},
   "outputs": [],
   "source": []
  }
 ],
 "metadata": {
  "kernelspec": {
   "display_name": "conda_python3",
   "language": "python",
   "name": "conda_python3"
  },
  "language_info": {
   "codemirror_mode": {
    "name": "ipython",
    "version": 3
   },
   "file_extension": ".py",
   "mimetype": "text/x-python",
   "name": "python",
   "nbconvert_exporter": "python",
   "pygments_lexer": "ipython3",
   "version": "3.6.13"
  }
 },
 "nbformat": 4,
 "nbformat_minor": 5
}
